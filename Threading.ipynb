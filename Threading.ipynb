{
 "cells": [
  {
   "cell_type": "markdown",
   "id": "8328a42e",
   "metadata": {},
   "source": [
    "TODO\n",
    "* post a question to ParaView website"
   ]
  },
  {
   "cell_type": "code",
   "execution_count": 38,
   "id": "fa6bab47",
   "metadata": {},
   "outputs": [],
   "source": [
    "# https://stackoverflow.com/questions/49568038/clear-cached-images-in-jupyter-notebook\n",
    "# clear all variables\n",
    "%reset -f"
   ]
  },
  {
   "cell_type": "markdown",
   "id": "8365ebc2",
   "metadata": {},
   "source": [
    "# Learning about Threading in Python #1\n",
    "* https://www.youtube.com/watch?v=_14xnFI0Kmc&list=LL&index=1&ab_channel=BroCode\n",
    "* however in the notebook, this threading example does not work; the latter parts get executed after the thread is done... strange... not sure if it is the problem with Jupyter Notebook or the code. Anyway I have found another example that work like threads."
   ]
  },
  {
   "cell_type": "code",
   "execution_count": 42,
   "id": "34be127f",
   "metadata": {},
   "outputs": [],
   "source": [
    "import threading\n",
    "import time"
   ]
  },
  {
   "cell_type": "code",
   "execution_count": 43,
   "id": "d3dd3a24",
   "metadata": {},
   "outputs": [],
   "source": [
    "def timer(totalSeconds = 5):\n",
    "    print(\"configuring the timer...\")\n",
    "    cnt = 0\n",
    "    while True:\n",
    "        time.sleep(1)\n",
    "        print(\"logged in for: \", cnt, \" seconds\")\n",
    "        cnt += 1\n",
    "        \n",
    "        if cnt > totalSeconds:\n",
    "            print(\"finishing the timer...\")\n",
    "            break\n",
    "    \n",
    "    print(\"done the timer...\")"
   ]
  },
  {
   "cell_type": "code",
   "execution_count": 44,
   "id": "ab017643",
   "metadata": {
    "scrolled": true
   },
   "outputs": [
    {
     "name": "stdout",
     "output_type": "stream",
     "text": [
      "configuring the timer...\n",
      "logged in for:  0  seconds\n",
      "logged in for:  1  seconds\n",
      "logged in for:  2  seconds\n",
      "logged in for:  3  seconds\n",
      "logged in for:  4  seconds\n",
      "logged in for:  5  seconds\n",
      "finishing the timer...\n",
      "done the timer...\n"
     ]
    }
   ],
   "source": [
    "timer()"
   ]
  },
  {
   "cell_type": "code",
   "execution_count": 45,
   "id": "e814c25b",
   "metadata": {},
   "outputs": [
    {
     "name": "stdout",
     "output_type": "stream",
     "text": [
      "configuring the timer...\n",
      "logged in for:  0  seconds\n",
      "logged in for:  1  seconds\n",
      "logged in for:  2  seconds\n",
      "logged in for:  3  seconds\n",
      "finishing the timer...\n",
      "done the timer...\n"
     ]
    }
   ],
   "source": [
    "timer(3)"
   ]
  },
  {
   "cell_type": "code",
   "execution_count": 46,
   "id": "ac6fb1d5",
   "metadata": {},
   "outputs": [
    {
     "name": "stdout",
     "output_type": "stream",
     "text": [
      "configuring the timer...\n",
      "logged in for:  0  seconds\n",
      "logged in for:  1  seconds\n",
      "logged in for:  2  seconds\n",
      "logged in for:  3  seconds\n",
      "logged in for:  4  seconds\n",
      "logged in for:  5  seconds\n",
      "finishing the timer...\n",
      "done the timer...\n",
      "0\n",
      "1\n",
      "2\n",
      "3\n",
      "4\n",
      "5\n",
      "6\n",
      "7\n",
      "8\n",
      "9\n"
     ]
    }
   ],
   "source": [
    "x = threading.Thread(target=timer(5))\n",
    "x.start()\n",
    "\n",
    "for i in range(0,10):\n",
    "    print(i)\n",
    "    time.sleep(1)"
   ]
  },
  {
   "cell_type": "markdown",
   "id": "5f898d63",
   "metadata": {},
   "source": [
    "# Learning about Threading in Python #2\n",
    "* https://www.youtube.com/watch?v=WCYMG3QMJMo&list=LL&index=2"
   ]
  },
  {
   "cell_type": "code",
   "execution_count": 47,
   "id": "343eeb45",
   "metadata": {},
   "outputs": [],
   "source": [
    "import threading\n",
    "from datetime import datetime"
   ]
  },
  {
   "cell_type": "code",
   "execution_count": 48,
   "id": "5d71991b",
   "metadata": {},
   "outputs": [],
   "source": [
    "class Thread1(threading.Thread):\n",
    "    def run(self) -> None:\n",
    "        for i in range(10):\n",
    "            now=datetime.now()\n",
    "            print(now)\n",
    "            time.sleep(1)"
   ]
  },
  {
   "cell_type": "code",
   "execution_count": 49,
   "id": "8080db18",
   "metadata": {},
   "outputs": [],
   "source": [
    "class Thread2(threading.Thread):\n",
    "    def run(self) -> None:\n",
    "        for i in range(10):\n",
    "            print(i)\n",
    "            time.sleep(1)"
   ]
  },
  {
   "cell_type": "code",
   "execution_count": 50,
   "id": "d01d32b4",
   "metadata": {
    "scrolled": true
   },
   "outputs": [
    {
     "name": "stdout",
     "output_type": "stream",
     "text": [
      "2021-09-05 14:20:59.102523\n",
      "0\n",
      "12021-09-05 14:21:00.113427\n",
      "\n",
      "2021-09-05 14:21:01.1205242\n",
      "\n",
      "2021-09-05 14:21:02.132908\n",
      "3\n",
      "2021-09-05 14:21:03.143868\n",
      "4\n",
      "5\n",
      "2021-09-05 14:21:04.145529\n",
      "2021-09-05 14:21:05.1494826\n",
      "\n",
      "72021-09-05 14:21:06.159694\n",
      "\n",
      "82021-09-05 14:21:07.166742\n",
      "\n",
      "92021-09-05 14:21:08.179276\n",
      "\n"
     ]
    }
   ],
   "source": [
    "t1=Thread1()\n",
    "t1.start()\n",
    "t2=Thread2()\n",
    "t2.start()"
   ]
  },
  {
   "cell_type": "markdown",
   "id": "c958ffa3",
   "metadata": {},
   "source": [
    "# Testing the thread in ParaView\n",
    "* test the code from #2 does not work\n",
    "    * In the Python shell, I need to hit enter to see the progression of the iteration (it looks like the loop does not go to the next step unless I hit enter... strange)\n",
    "* test the code below does not work\n",
    "    * once I call the parts that change the camera, the program crashes.\n",
    "* there are two Q&A might provide a solution to this issue.\n",
    "    * https://discourse.paraview.org/t/threading/3647\n",
    "        * the person asking the question didn't provide an example code but he got it working...\n",
    "    * https://discourse.paraview.org/t/running-a-script-in-the-background-vr-black-screen/3412\n",
    "        * might need to build ParaView\n",
    "* let's post a quesiton to ParaView group !!!"
   ]
  },
  {
   "cell_type": "code",
   "execution_count": null,
   "id": "72c737d9",
   "metadata": {},
   "outputs": [],
   "source": [
    "class Thread1(threading.Thread):\n",
    "    def run(self) -> None:\n",
    "        for i in range(5):\n",
    "            print(i)\n",
    "            if i == 3:\n",
    "                cam = GetActiveCamera()\n",
    "                cam.Elevation(45)\n",
    "                Render()\n",
    "            time.sleep(1)\n",
    "            \n",
    "t1=Thread1()\n",
    "t1.start()"
   ]
  }
 ],
 "metadata": {
  "kernelspec": {
   "display_name": "Python 3",
   "language": "python",
   "name": "python3"
  },
  "language_info": {
   "codemirror_mode": {
    "name": "ipython",
    "version": 3
   },
   "file_extension": ".py",
   "mimetype": "text/x-python",
   "name": "python",
   "nbconvert_exporter": "python",
   "pygments_lexer": "ipython3",
   "version": "3.8.8"
  }
 },
 "nbformat": 4,
 "nbformat_minor": 5
}
